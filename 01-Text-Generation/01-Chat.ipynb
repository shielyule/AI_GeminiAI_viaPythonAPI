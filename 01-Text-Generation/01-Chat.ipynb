{
 "cells": [
  {
   "cell_type": "markdown",
   "id": "857ad0d9-9c6e-4df9-acc6-7dde753d78f6",
   "metadata": {},
   "source": [
    "<center><a href=\"https://www.pieriantraining.com/\" ><img src=\"../PTCenteredPurple.png\" alt=\"Pierian Training Logo\" /></a></center>\n"
   ]
  },
  {
   "cell_type": "markdown",
   "id": "8cfc0f48-cb44-4a2a-80d2-aa22449b31af",
   "metadata": {
    "tags": []
   },
   "source": [
    "# Chat Conversations\n",
    "Gemini also has the ability to carry on a conversation, where you can send messages and have a history of replies, so that Gemini can have context."
   ]
  },
  {
   "cell_type": "code",
   "execution_count": 1,
   "id": "fcee58c5-e7a2-41f8-89d4-2b52b8b2ad45",
   "metadata": {},
   "outputs": [],
   "source": [
    "import google.generativeai as genai\n",
    "genai.configure(api_key=api_key)"
   ]
  },
  {
   "cell_type": "code",
   "execution_count": 2,
   "id": "cebe1227-52ec-4a63-8f26-22f420188026",
   "metadata": {},
   "outputs": [],
   "source": [
    "# Note: The vision model gemini-pro-vision is not optimized for multi-turn chat! Its made more for one-shot questions.\n",
    "model = genai.GenerativeModel('gemini-pro')"
   ]
  },
  {
   "cell_type": "markdown",
   "id": "aea70716-5d99-4e26-9f0d-b5f0438e878c",
   "metadata": {},
   "source": [
    "Let's initiate the chat with no historical messages."
   ]
  },
  {
   "cell_type": "code",
   "execution_count": 3,
   "id": "f4d8848f-641b-4f21-b421-39a922ee4eac",
   "metadata": {},
   "outputs": [],
   "source": [
    "chat = model.start_chat()"
   ]
  },
  {
   "cell_type": "markdown",
   "id": "488d66ea-55c8-4583-bb5f-e319bb49dc3d",
   "metadata": {},
   "source": [
    "Sending a message can be achieved using `response = chat.send_message(message)`"
   ]
  },
  {
   "cell_type": "code",
   "execution_count": 4,
   "id": "a525d90c-89f1-445a-889d-b506da76153f",
   "metadata": {},
   "outputs": [],
   "source": [
    "response = chat.send_message(\"Hi! I'm planning a trip to Paris, could you help me plan some activities?\")"
   ]
  },
  {
   "cell_type": "code",
   "execution_count": 7,
   "id": "7c5690ee-5697-48f0-a3f7-4d7f638b6b6e",
   "metadata": {},
   "outputs": [
    {
     "name": "stdout",
     "output_type": "stream",
     "text": [
      "1. **Visit the Eiffel Tower:**\n",
      "   - Take a walk to the Champ de Mars to see the Eiffel Tower from different angles.\n",
      "   - Go up the tower for panoramic views of the city.\n",
      "   - Enjoy a meal at one of the restaurants on the tower's premises.\n",
      "\n",
      "\n",
      "2. **Visit the Louvre Museum:**\n",
      "   - Admire the works of art, including the Mona Lisa and Venus de Milo.\n",
      "   - Take a guided tour to learn more about the museum's history and collections.\n",
      "   - Visit the Louvre's sculpture garden for a stroll.\n",
      "\n",
      "\n",
      "3. **Take a Cruise on the River Seine:**\n",
      "   - Embark on a river cruise to see Paris from a unique perspective.\n",
      "   - Choose a cruise that offers commentary on the city's landmarks.\n",
      "   - Enjoy a romantic dinner cruise with your significant other.\n",
      "\n",
      "\n",
      "4. **Explore the Latin Quarter:**\n",
      "   - Wander through the narrow streets and visit the Sorbonne University.\n",
      "   - Discover the Pantheon, a neoclassical monument dedicated to famous French citizens.\n",
      "   - Enjoy a crepe or a glass of wine at one of the many cafés in the area.\n",
      "\n",
      "\n",
      "5. **Visit the Palace of Versailles:**\n",
      "   - Take a day trip to Versailles to visit the opulent Château de Versailles.\n",
      "   - Stroll through the gardens of Versailles, designed by André Le Nôtre.\n",
      "   - Admire the Hall of Mirrors, a magnificent room with floor-to-ceiling mirrors.\n",
      "\n",
      "\n",
      "6. **Take a Bike Tour:**\n",
      "   - Rent a bike and explore Paris on two wheels.\n",
      "   - Join a guided bike tour to discover hidden gems and learn about the city's history.\n",
      "   - Cycle along the Seine River or through the Bois de Boulogne.\n",
      "\n",
      "\n",
      "7. **Visit the Sacré-Cœur Basilica:**\n",
      "   - Climb the steps of Montmartre to reach the Sacré-Cœur Basilica.\n",
      "   - Enjoy the stunning views of the city from the parvis of the basilica.\n",
      "   - Explore the charming neighborhood of Montmartre, known for its artists and bohemian atmosphere.\n",
      "\n",
      "\n",
      "8. **Picnic at the Luxembourg Gardens:**\n",
      "   - Pack a lunch and head to the Luxembourg Gardens for a relaxing picnic.\n",
      "   - Admire the beautiful fountains and sculptures in the garden.\n",
      "   - Take a boat ride on the Grand Bassin, the garden's large pond.\n",
      "\n",
      "\n",
      "9. **Shop at the Champs-Élysées:**\n",
      "   - Stroll down the Champs-Élysées, one of the most famous shopping streets in the world.\n",
      "   - Browse the luxury boutiques and department stores.\n",
      "   - Stop for a coffee or a snack at one of the sidewalk cafés.\n",
      "\n",
      "\n",
      "10. **See a Show at the Moulin Rouge:**\n",
      "    - Book tickets for a cabaret show at the iconic Moulin Rouge.\n",
      "    - Be amazed by the talented dancers and performers.\n",
      "    - Enjoy a glass of champagne while you watch the show.\n"
     ]
    }
   ],
   "source": [
    "print(response.text)"
   ]
  },
  {
   "cell_type": "markdown",
   "id": "e48af28d-1e47-4123-8466-dccd6a7d6d20",
   "metadata": {},
   "source": [
    "---\n",
    "\n",
    "Note however, since we initiated a chat, we have a full history of our prompts and Gemini Replies and we can reference them in an ongoing conversation.\n",
    "To view the entire history, you can call `chat.history`."
   ]
  },
  {
   "cell_type": "code",
   "execution_count": 15,
   "id": "20b16d69-056b-4e28-bbcd-0283e81ad406",
   "metadata": {},
   "outputs": [
    {
     "name": "stdout",
     "output_type": "stream",
     "text": [
      "parts {\n",
      "  text: \"Hi! I\\'m planning a trip to Paris, could you help me plan some activities?\"\n",
      "}\n",
      "role: \"user\"\n",
      "\n",
      "\n",
      "\n",
      "\n",
      "parts {\n",
      "  text: \"1. **Visit the Eiffel Tower:**\\n   - Take a walk to the Champ de Mars to see the Eiffel Tower from different angles.\\n   - Go up the tower for panoramic views of the city.\\n   - Enjoy a meal at one of the restaurants on the tower\\'s premises.\\n\\n\\n2. **Visit the Louvre Museum:**\\n   - Admire the works of art, including the Mona Lisa and Venus de Milo.\\n   - Take a guided tour to learn more about the museum\\'s history and collections.\\n   - Visit the Louvre\\'s sculpture garden for a stroll.\\n\\n\\n3. **Take a Cruise on the River Seine:**\\n   - Embark on a river cruise to see Paris from a unique perspective.\\n   - Choose a cruise that offers commentary on the city\\'s landmarks.\\n   - Enjoy a romantic dinner cruise with your significant other.\\n\\n\\n4. **Explore the Latin Quarter:**\\n   - Wander through the narrow streets and visit the Sorbonne University.\\n   - Discover the Pantheon, a neoclassical monument dedicated to famous French citizens.\\n   - Enjoy a crepe or a glass of wine at one of the many cafés in the area.\\n\\n\\n5. **Visit the Palace of Versailles:**\\n   - Take a day trip to Versailles to visit the opulent Château de Versailles.\\n   - Stroll through the gardens of Versailles, designed by André Le Nôtre.\\n   - Admire the Hall of Mirrors, a magnificent room with floor-to-ceiling mirrors.\\n\\n\\n6. **Take a Bike Tour:**\\n   - Rent a bike and explore Paris on two wheels.\\n   - Join a guided bike tour to discover hidden gems and learn about the city\\'s history.\\n   - Cycle along the Seine River or through the Bois de Boulogne.\\n\\n\\n7. **Visit the Sacré-Cœur Basilica:**\\n   - Climb the steps of Montmartre to reach the Sacré-Cœur Basilica.\\n   - Enjoy the stunning views of the city from the parvis of the basilica.\\n   - Explore the charming neighborhood of Montmartre, known for its artists and bohemian atmosphere.\\n\\n\\n8. **Picnic at the Luxembourg Gardens:**\\n   - Pack a lunch and head to the Luxembourg Gardens for a relaxing picnic.\\n   - Admire the beautiful fountains and sculptures in the garden.\\n   - Take a boat ride on the Grand Bassin, the garden\\'s large pond.\\n\\n\\n9. **Shop at the Champs-Élysées:**\\n   - Stroll down the Champs-Élysées, one of the most famous shopping streets in the world.\\n   - Browse the luxury boutiques and department stores.\\n   - Stop for a coffee or a snack at one of the sidewalk cafés.\\n\\n\\n10. **See a Show at the Moulin Rouge:**\\n    - Book tickets for a cabaret show at the iconic Moulin Rouge.\\n    - Be amazed by the talented dancers and performers.\\n    - Enjoy a glass of champagne while you watch the show.\"\n",
      "}\n",
      "role: \"model\"\n",
      "\n",
      "\n",
      "\n",
      "\n"
     ]
    }
   ],
   "source": [
    "for item in chat.history:\n",
    "    print(item)\n",
    "    print('\\n\\n')"
   ]
  },
  {
   "cell_type": "code",
   "execution_count": 20,
   "id": "a3562d52-50d3-446b-9fba-ee874f1f6be8",
   "metadata": {},
   "outputs": [
    {
     "data": {
      "text/plain": [
       "google.ai.generativelanguage_v1beta.types.content.Content"
      ]
     },
     "execution_count": 20,
     "metadata": {},
     "output_type": "execute_result"
    }
   ],
   "source": [
    "type(item)"
   ]
  },
  {
   "cell_type": "code",
   "execution_count": 21,
   "id": "c69b5238-e695-4a77-a4ac-5f6699cba615",
   "metadata": {},
   "outputs": [
    {
     "data": {
      "text/plain": [
       "'model'"
      ]
     },
     "execution_count": 21,
     "metadata": {},
     "output_type": "execute_result"
    }
   ],
   "source": [
    "item.role"
   ]
  },
  {
   "cell_type": "code",
   "execution_count": 18,
   "id": "223b1f71-2091-41bd-b27f-dcb97f46b5cc",
   "metadata": {},
   "outputs": [
    {
     "data": {
      "text/plain": [
       "\"1. **Visit the Eiffel Tower:**\\n   - Take a walk to the Champ de Mars to see the Eiffel Tower from different angles.\\n   - Go up the tower for panoramic views of the city.\\n   - Enjoy a meal at one of the restaurants on the tower's premises.\\n\\n\\n2. **Visit the Louvre Museum:**\\n   - Admire the works of art, including the Mona Lisa and Venus de Milo.\\n   - Take a guided tour to learn more about the museum's history and collections.\\n   - Visit the Louvre's sculpture garden for a stroll.\\n\\n\\n3. **Take a Cruise on the River Seine:**\\n   - Embark on a river cruise to see Paris from a unique perspective.\\n   - Choose a cruise that offers commentary on the city's landmarks.\\n   - Enjoy a romantic dinner cruise with your significant other.\\n\\n\\n4. **Explore the Latin Quarter:**\\n   - Wander through the narrow streets and visit the Sorbonne University.\\n   - Discover the Pantheon, a neoclassical monument dedicated to famous French citizens.\\n   - Enjoy a crepe or a glass of wine at one of the many cafés in the area.\\n\\n\\n5. **Visit the Palace of Versailles:**\\n   - Take a day trip to Versailles to visit the opulent Château de Versailles.\\n   - Stroll through the gardens of Versailles, designed by André Le Nôtre.\\n   - Admire the Hall of Mirrors, a magnificent room with floor-to-ceiling mirrors.\\n\\n\\n6. **Take a Bike Tour:**\\n   - Rent a bike and explore Paris on two wheels.\\n   - Join a guided bike tour to discover hidden gems and learn about the city's history.\\n   - Cycle along the Seine River or through the Bois de Boulogne.\\n\\n\\n7. **Visit the Sacré-Cœur Basilica:**\\n   - Climb the steps of Montmartre to reach the Sacré-Cœur Basilica.\\n   - Enjoy the stunning views of the city from the parvis of the basilica.\\n   - Explore the charming neighborhood of Montmartre, known for its artists and bohemian atmosphere.\\n\\n\\n8. **Picnic at the Luxembourg Gardens:**\\n   - Pack a lunch and head to the Luxembourg Gardens for a relaxing picnic.\\n   - Admire the beautiful fountains and sculptures in the garden.\\n   - Take a boat ride on the Grand Bassin, the garden's large pond.\\n\\n\\n9. **Shop at the Champs-Élysées:**\\n   - Stroll down the Champs-Élysées, one of the most famous shopping streets in the world.\\n   - Browse the luxury boutiques and department stores.\\n   - Stop for a coffee or a snack at one of the sidewalk cafés.\\n\\n\\n10. **See a Show at the Moulin Rouge:**\\n    - Book tickets for a cabaret show at the iconic Moulin Rouge.\\n    - Be amazed by the talented dancers and performers.\\n    - Enjoy a glass of champagne while you watch the show.\""
      ]
     },
     "execution_count": 18,
     "metadata": {},
     "output_type": "execute_result"
    }
   ],
   "source": [
    "item.parts[0].text"
   ]
  },
  {
   "cell_type": "markdown",
   "id": "c83828ef-ac6c-4aa0-9b1b-63d9accf92f2",
   "metadata": {},
   "source": [
    "### Continue the conversation\n",
    "\n",
    "To continue the conversation, we simply call `.send_message()` again:"
   ]
  },
  {
   "cell_type": "code",
   "execution_count": 22,
   "id": "02bc68a4-01ea-44d3-b69c-914304fed2a9",
   "metadata": {},
   "outputs": [],
   "source": [
    "response = chat.send_message(\"Give me more details about that last point\")"
   ]
  },
  {
   "cell_type": "code",
   "execution_count": 23,
   "id": "853a9092-0d97-422e-b0ec-68e23903815d",
   "metadata": {},
   "outputs": [
    {
     "name": "stdout",
     "output_type": "stream",
     "text": [
      "**Seeing a Show at the Moulin Rouge:**\n",
      "\n",
      "The Moulin Rouge is a world-renowned cabaret located in the Pigalle district of Paris. It is famous for its high-energy shows, elaborate costumes, and talented dancers. Seeing a show at the Moulin Rouge is a must-do experience for any visitor to Paris.\n",
      "\n",
      "**How to Book Tickets:**\n",
      "\n",
      "* You can book tickets for the Moulin Rouge show online or through a reputable tour operator.\n",
      "* There are different types of tickets available, depending on your budget and preferences.\n",
      "* The most popular option is the \"Féerie\" show, which includes a glass of champagne and a half-bottle of wine.\n",
      "* You can also choose to dine at the Moulin Rouge before the show.\n",
      "\n",
      "**What to Expect:**\n",
      "\n",
      "* The Moulin Rouge show is a spectacular extravaganza that features feathers, sequins, and plenty of dancing.\n",
      "* The show tells the story of a young woman who comes to Paris to pursue her dreams of becoming a dancer.\n",
      "* The dancers are incredibly talented and perform a variety of routines, including the famous can-can dance.\n",
      "* The show is accompanied by live music and elaborate sets.\n",
      "\n",
      "**Tips for Enjoying the Show:**\n",
      "\n",
      "* Dress up for the occasion. The Moulin Rouge has a dress code that requires smart attire.\n",
      "* Arrive early to get a good seat. The show starts promptly at the scheduled time.\n",
      "* Order a glass of champagne or wine to enjoy during the show.\n",
      "* Take your time and savor the experience. The Moulin Rouge show is a once-in-a-lifetime experience.\n",
      "\n",
      "**Additional Information:**\n",
      "\n",
      "* The Moulin Rouge is located at 82 Boulevard de Clichy, 75018 Paris.\n",
      "* The closest metro stations are Blanche and Pigalle.\n",
      "* The show starts at 9:00 PM and lasts for two hours.\n",
      "* There are two shows per night, at 9:00 PM and 11:00 PM.\n",
      "\n",
      "I hope this additional information helps you plan your visit to the Moulin Rouge!\n"
     ]
    }
   ],
   "source": [
    "print(response.text)"
   ]
  },
  {
   "cell_type": "code",
   "execution_count": 24,
   "id": "b2ad74f1-65d1-4cfe-b9f6-c3baf5ec498f",
   "metadata": {},
   "outputs": [
    {
     "name": "stdout",
     "output_type": "stream",
     "text": [
      "[parts {\n",
      "  text: \"Hi! I\\'m planning a trip to Paris, could you help me plan some activities?\"\n",
      "}\n",
      "role: \"user\"\n",
      ", parts {\n",
      "  text: \"1. **Visit the Eiffel Tower:**\\n   - Take a walk to the Champ de Mars to see the Eiffel Tower from different angles.\\n   - Go up the tower for panoramic views of the city.\\n   - Enjoy a meal at one of the restaurants on the tower\\'s premises.\\n\\n\\n2. **Visit the Louvre Museum:**\\n   - Admire the works of art, including the Mona Lisa and Venus de Milo.\\n   - Take a guided tour to learn more about the museum\\'s history and collections.\\n   - Visit the Louvre\\'s sculpture garden for a stroll.\\n\\n\\n3. **Take a Cruise on the River Seine:**\\n   - Embark on a river cruise to see Paris from a unique perspective.\\n   - Choose a cruise that offers commentary on the city\\'s landmarks.\\n   - Enjoy a romantic dinner cruise with your significant other.\\n\\n\\n4. **Explore the Latin Quarter:**\\n   - Wander through the narrow streets and visit the Sorbonne University.\\n   - Discover the Pantheon, a neoclassical monument dedicated to famous French citizens.\\n   - Enjoy a crepe or a glass of wine at one of the many cafés in the area.\\n\\n\\n5. **Visit the Palace of Versailles:**\\n   - Take a day trip to Versailles to visit the opulent Château de Versailles.\\n   - Stroll through the gardens of Versailles, designed by André Le Nôtre.\\n   - Admire the Hall of Mirrors, a magnificent room with floor-to-ceiling mirrors.\\n\\n\\n6. **Take a Bike Tour:**\\n   - Rent a bike and explore Paris on two wheels.\\n   - Join a guided bike tour to discover hidden gems and learn about the city\\'s history.\\n   - Cycle along the Seine River or through the Bois de Boulogne.\\n\\n\\n7. **Visit the Sacré-Cœur Basilica:**\\n   - Climb the steps of Montmartre to reach the Sacré-Cœur Basilica.\\n   - Enjoy the stunning views of the city from the parvis of the basilica.\\n   - Explore the charming neighborhood of Montmartre, known for its artists and bohemian atmosphere.\\n\\n\\n8. **Picnic at the Luxembourg Gardens:**\\n   - Pack a lunch and head to the Luxembourg Gardens for a relaxing picnic.\\n   - Admire the beautiful fountains and sculptures in the garden.\\n   - Take a boat ride on the Grand Bassin, the garden\\'s large pond.\\n\\n\\n9. **Shop at the Champs-Élysées:**\\n   - Stroll down the Champs-Élysées, one of the most famous shopping streets in the world.\\n   - Browse the luxury boutiques and department stores.\\n   - Stop for a coffee or a snack at one of the sidewalk cafés.\\n\\n\\n10. **See a Show at the Moulin Rouge:**\\n    - Book tickets for a cabaret show at the iconic Moulin Rouge.\\n    - Be amazed by the talented dancers and performers.\\n    - Enjoy a glass of champagne while you watch the show.\"\n",
      "}\n",
      "role: \"model\"\n",
      ", parts {\n",
      "  text: \"Give me more details about that last point\"\n",
      "}\n",
      "role: \"user\"\n",
      ", parts {\n",
      "  text: \"**Seeing a Show at the Moulin Rouge:**\\n\\nThe Moulin Rouge is a world-renowned cabaret located in the Pigalle district of Paris. It is famous for its high-energy shows, elaborate costumes, and talented dancers. Seeing a show at the Moulin Rouge is a must-do experience for any visitor to Paris.\\n\\n**How to Book Tickets:**\\n\\n* You can book tickets for the Moulin Rouge show online or through a reputable tour operator.\\n* There are different types of tickets available, depending on your budget and preferences.\\n* The most popular option is the \\\"Féerie\\\" show, which includes a glass of champagne and a half-bottle of wine.\\n* You can also choose to dine at the Moulin Rouge before the show.\\n\\n**What to Expect:**\\n\\n* The Moulin Rouge show is a spectacular extravaganza that features feathers, sequins, and plenty of dancing.\\n* The show tells the story of a young woman who comes to Paris to pursue her dreams of becoming a dancer.\\n* The dancers are incredibly talented and perform a variety of routines, including the famous can-can dance.\\n* The show is accompanied by live music and elaborate sets.\\n\\n**Tips for Enjoying the Show:**\\n\\n* Dress up for the occasion. The Moulin Rouge has a dress code that requires smart attire.\\n* Arrive early to get a good seat. The show starts promptly at the scheduled time.\\n* Order a glass of champagne or wine to enjoy during the show.\\n* Take your time and savor the experience. The Moulin Rouge show is a once-in-a-lifetime experience.\\n\\n**Additional Information:**\\n\\n* The Moulin Rouge is located at 82 Boulevard de Clichy, 75018 Paris.\\n* The closest metro stations are Blanche and Pigalle.\\n* The show starts at 9:00 PM and lasts for two hours.\\n* There are two shows per night, at 9:00 PM and 11:00 PM.\\n\\nI hope this additional information helps you plan your visit to the Moulin Rouge!\"\n",
      "}\n",
      "role: \"model\"\n",
      "]\n"
     ]
    }
   ],
   "source": [
    "print(chat.history)"
   ]
  },
  {
   "cell_type": "markdown",
   "id": "37045eb5-c74a-4ae4-98ea-2c4951e92f42",
   "metadata": {},
   "source": [
    "## Stream Reply\n",
    "\n",
    "Since tokens are generated on the fly, you could also  directly grab the chunkcs as the come in:"
   ]
  },
  {
   "cell_type": "code",
   "execution_count": 25,
   "id": "52761b85-74da-441a-a8e8-4000f3cdb4a3",
   "metadata": {},
   "outputs": [
    {
     "name": "stdout",
     "output_type": "stream",
     "text": [
      "Yes, there have been several movies and musicals about the Moulin Rouge:\n",
      "\n",
      "**\n",
      "Movies:**\n",
      "\n",
      "* **Moulin Rouge! (2001)**: This musical film directed by Baz Luhrmann tells the fictionalized story of a\n",
      " young English poet who falls in love with a courtesan at the Moulin Rouge. The film was a critical and commercial success, winning two Academy Awards and three Golden Globe Awards.\n",
      "* **French Cancan (1954)**: This French musical film tells the story of the Moulin Rouge's early days and\n",
      " the rivalry between two dancers. It was directed by Jean Renoir and stars Jean Gabin and Françoise Arnoul.\n",
      "* **Moulin Rouge (1928)**: This silent film directed by Ewald André Dupont tells the story of a young woman who becomes a dancer at the Moulin Rouge. It was one of the first films to feature color sequences.\n",
      "\n",
      "**Musicals:**\n",
      "\n",
      "* **Moulin Rouge! The Musical**: This stage musical adaptation of the 2001 film premiered on Broadway in 2019. It features many of the songs from the film, as well as new music by Elton John.\n",
      "\n",
      "* **French Cancan (musical)**: This musical adaptation of the 1954 film premiered in Paris in 1958. It has since been performed in several countries around the world.\n",
      "\n",
      "The Moulin Rouge has also been featured in numerous other films and television shows, including \"An American in Paris\" (1951), \"Moulin Rouge\" (1944), and \"Gossip Girl.\"\n",
      "\n",
      "I hope this answers your question!\n"
     ]
    }
   ],
   "source": [
    "response = chat.send_message(\"Wasn't there a movie or musical about this?\", stream=True)\n",
    "\n",
    "for chunk in response:\n",
    "    print(chunk.text)"
   ]
  },
  {
   "cell_type": "markdown",
   "id": "1f80a378-a640-47ff-bbdf-5ba637c9bd2f",
   "metadata": {},
   "source": [
    "## Token Count\n",
    "\n",
    "You can easily count tokens as well:"
   ]
  },
  {
   "cell_type": "code",
   "execution_count": 26,
   "id": "2ada23b3-073d-463f-b524-ea89ad28692c",
   "metadata": {},
   "outputs": [
    {
     "data": {
      "text/plain": [
       "total_tokens: 15"
      ]
     },
     "execution_count": 26,
     "metadata": {},
     "output_type": "execute_result"
    }
   ],
   "source": [
    "model.count_tokens(\"hello lightness my old friend...I've come to laugh with you again\")"
   ]
  },
  {
   "cell_type": "code",
   "execution_count": null,
   "id": "d2e155e9-94ab-4807-a782-e0275c0b8888",
   "metadata": {},
   "outputs": [],
   "source": []
  }
 ],
 "metadata": {
  "kernelspec": {
   "display_name": "Python 3 (ipykernel)",
   "language": "python",
   "name": "python3"
  },
  "language_info": {
   "codemirror_mode": {
    "name": "ipython",
    "version": 3
   },
   "file_extension": ".py",
   "mimetype": "text/x-python",
   "name": "python",
   "nbconvert_exporter": "python",
   "pygments_lexer": "ipython3",
   "version": "3.9.12"
  }
 },
 "nbformat": 4,
 "nbformat_minor": 5
}
