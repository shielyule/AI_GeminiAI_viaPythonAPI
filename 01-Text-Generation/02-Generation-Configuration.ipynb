{
 "cells": [
  {
   "cell_type": "markdown",
   "id": "d2f8c36c-8d61-4be5-9324-7fcb9cb88ffd",
   "metadata": {},
   "source": [
    "<center><a href=\"https://www.pieriantraining.com/\" ><img src=\"../PTCenteredPurple.png\" alt=\"Pierian Training Logo\" /></a></center>\n"
   ]
  },
  {
   "cell_type": "markdown",
   "id": "fd298c25-4b0b-435f-9876-364402cba58c",
   "metadata": {
    "tags": []
   },
   "source": [
    "# Generation Configuration (Text Generation Parameters)\n",
    "\n",
    "You can pass in configuration values to further refine the type of output you will get.\n",
    "\n",
    "Let's set up an easy to use function to explore these concepts:"
   ]
  },
  {
   "cell_type": "code",
   "execution_count": 17,
   "id": "88ee97b1-e5bf-44fd-a87f-8ed1500a7755",
   "metadata": {},
   "outputs": [],
   "source": [
    "api_key = ''"
   ]
  },
  {
   "cell_type": "code",
   "execution_count": 18,
   "id": "054ae913-356c-4c30-b38c-868b7993245c",
   "metadata": {},
   "outputs": [],
   "source": [
    "import google.generativeai as genai\n",
    "genai.configure(api_key=api_key)"
   ]
  },
  {
   "cell_type": "code",
   "execution_count": 19,
   "id": "84f722cf-307d-45be-ac4d-4bdc0c71dbf2",
   "metadata": {},
   "outputs": [],
   "source": [
    "model = genai.GenerativeModel('gemini-pro')"
   ]
  },
  {
   "cell_type": "markdown",
   "id": "516f911d-8757-4e4d-82be-97b71ca45b4d",
   "metadata": {},
   "source": [
    "## The Generation Configuration Object\n",
    "\n",
    "You can easily supply arguments to a geneartion configuration object:"
   ]
  },
  {
   "cell_type": "code",
   "execution_count": 50,
   "id": "f0881212-be32-4eb5-b56c-88eb5eeb17ff",
   "metadata": {},
   "outputs": [],
   "source": [
    "config = genai.types.GenerationConfig(temperature=1.0,max_output_tokens=2000,candidate_count=1)"
   ]
  },
  {
   "cell_type": "code",
   "execution_count": 46,
   "id": "a5d1b9d0-d53b-4f3b-ab71-3da055ddb487",
   "metadata": {},
   "outputs": [],
   "source": [
    "def get_response(prompt, generation_config={}):\n",
    "    response = model.generate_content(contents=prompt,generation_config=generation_config)\n",
    "    return response"
   ]
  },
  {
   "cell_type": "code",
   "execution_count": 47,
   "id": "db2192d5-1a85-42da-8b6a-93ad801ff97d",
   "metadata": {},
   "outputs": [
    {
     "name": "stdout",
     "output_type": "stream",
     "text": [
      "In a realm where stardust swirled and celestial bodies danced, the Moon emerged as an enchanting entity. Bathed in silver radiance, it held a mysterious allure that captivated the hearts of mortals and deities alike.\n",
      "\n",
      "Once upon a time, in a faraway land, a young princess named Selene was known for her beauty and grace. As she strolled through the palace gardens one starlit night, her eyes met those of a handsome prince, Orion, who had come to seek her hand in marriage.\n",
      "\n",
      "Orion, smitten by Selene's charm, pleaded with her to become his bride. However, Selene, captivated by the celestial tapestry above, expressed her desire to remain a celestial being. She was drawn to the Moon's enchanting glow and the promise of a timeless existence.\n",
      "\n",
      "The gods, touched by their love, granted Selene's wish and transformed her into the radiant Moon, forever illuminating the darkness with her silvery glow. Orion was transformed into a constellation, forever chasing Selene across the night sky, their love eternally intertwined.\n",
      "\n",
      "As Selene illuminated the night, she became a symbol of guidance and hope for those who ventured through life's shadows. Farmers relied on her cycles to guide their planting and harvesting, while sailors used her shimmering path to navigate the vast oceans.\n",
      "\n",
      "The Moon became a confidant to lovers, who whispered their secrets beneath its watchful gaze. It witnessed the ebb and flow of tides, the changing seasons, and the rise and fall of civilizations.\n",
      "\n",
      "In ancient tales, the Moon was often depicted as a feminine deity, associated with intuition, wisdom, and psychic abilities. It was believed that gazing upon the Moon could unlock hidden truths and bring clarity to troubled hearts.\n",
      "\n",
      "Over time, the Moon became a source of inspiration for poets, artists, and musicians. Its beauty and mystery inspired countless works of art, from paintings and sculptures to poems and symphonies.\n",
      "\n",
      "As centuries passed, the Moon also became an object of scientific exploration. Scientists sent satellites and astronauts to study its surface, revealing its barren landscape, covered in craters and vast plains. They discovered that the Moon had once been a part of Earth, torn away by a colossal collision long ago.\n",
      "\n",
      "In the modern age, the Moon continues to captivate our imagination. It remains a symbol of unity, drawing people together from across the globe, united in awe of its celestial beauty. With each passing night, the Moon reminds us of the limitless wonders of the universe and the profound connection we have with the cosmos.\n"
     ]
    }
   ],
   "source": [
    "result = get_response(\"Tell me a story about the Moon\")\n",
    "print(result.text)"
   ]
  },
  {
   "cell_type": "code",
   "execution_count": 51,
   "id": "9e60face-6c56-469b-81ff-4631dc412a07",
   "metadata": {},
   "outputs": [],
   "source": [
    "result = get_response(\"Tell me a story about the Moon\", generation_config= config)"
   ]
  },
  {
   "cell_type": "code",
   "execution_count": 53,
   "id": "62dd2121-4306-4240-846a-b005faa55d68",
   "metadata": {},
   "outputs": [
    {
     "data": {
      "text/plain": [
       "'Once upon a time, in a vast and celestial realm, there lived a celestial entity named Luna, the captivating Moon. Luna, adorned with ethereal beauty, gracefully orbited around a vibrant celestial sphere, the Earth. She cast her serene glow upon the earthly landscapes, painting them with a silvery light. \\n\\nIn the ancient tales of Earth\\'s inhabitants, Luna was a goddess, a feminine presence that embodied mystery, dreams, and intuition. Throughout the ages, she witnessed the birth and fall of civilizations, the rise and decline of cultures, and the ever-changing face of human history. \\n\\nLuna bore witness to the joys and sorrows of mortals, her light comforting lost souls and guiding weary travelers. She became an inseparable companion to Earth, drawn together by a cosmic embrace. As the Earth rotated, Luna presented different faces to its observers, sometimes appearing as a full circle, sometimes as a crescent, and at times, hidden from sight during the lunar eclipse. \\n\\nMyths, legends, and folklore grew around Luna\\'s celestial journey. In some stories, she was a beautiful maiden chasing the sun across the heavens, her love unrequited. In others, she was a mirror reflecting human emotion, transforming her appearance depending on Earth\\'s inhabitants. \\n\\nThroughout history, Luna\\'s presence inspired artists, poets, and musicians. Painters captured her ethereal beauty on canvas, poets poured out their souls in sonnets and odes dedicated to her, and composers wove her essence into their melodies. She became a constant muse, forever fueling the fires of human creativity. \\n\\nThen came a pivotal moment when the humans reached out for Luna, venturing into the vast expanse of space in the quest to touch her surface. In 1969, the world held its breath as astronauts Neil Armstrong and Edwin \"Buzz\" Aldrin took their historic steps on the moon, leaving behind an enduring footprint of human presence. \\n\\nAs the years passed, Luna continued her celestial journey, her silent presence eternal. Though explored and studied by humans, her mysteries remain veiled, waiting to be uncovered by future generations. Her light will continue to shine down on Earth, a celestial reminder of the infinite wonders that lie beyond our mortal realm.'"
      ]
     },
     "execution_count": 53,
     "metadata": {},
     "output_type": "execute_result"
    }
   ],
   "source": [
    "result.text"
   ]
  },
  {
   "cell_type": "markdown",
   "id": "7b3a2065-c496-445d-b3f6-9edb2ca1bc5b",
   "metadata": {},
   "source": [
    "**BE AWARE! Take careful notice how adding the configuration changes the object that is sent back! If you get a warning message read it carefully! For example, check out the warning below, it tells you how to access the information**\n",
    "\n",
    ">\n",
    ">> ValueError: The `response.text` quick accessor only works for simple (single-`Part`) text responses. This response is not simple text.Use the `result.parts` accessor or the full `result.candidates[index].content.parts` lookup instead.\n",
    ">"
   ]
  },
  {
   "cell_type": "code",
   "execution_count": 55,
   "id": "58cfa953-6ffe-4925-9389-854918aef338",
   "metadata": {},
   "outputs": [
    {
     "data": {
      "text/plain": [
       "'Once upon a time, in a vast and celestial realm, there lived a celestial entity named Luna, the captivating Moon. Luna, adorned with ethereal beauty, gracefully orbited around a vibrant celestial sphere, the Earth. She cast her serene glow upon the earthly landscapes, painting them with a silvery light. \\n\\nIn the ancient tales of Earth\\'s inhabitants, Luna was a goddess, a feminine presence that embodied mystery, dreams, and intuition. Throughout the ages, she witnessed the birth and fall of civilizations, the rise and decline of cultures, and the ever-changing face of human history. \\n\\nLuna bore witness to the joys and sorrows of mortals, her light comforting lost souls and guiding weary travelers. She became an inseparable companion to Earth, drawn together by a cosmic embrace. As the Earth rotated, Luna presented different faces to its observers, sometimes appearing as a full circle, sometimes as a crescent, and at times, hidden from sight during the lunar eclipse. \\n\\nMyths, legends, and folklore grew around Luna\\'s celestial journey. In some stories, she was a beautiful maiden chasing the sun across the heavens, her love unrequited. In others, she was a mirror reflecting human emotion, transforming her appearance depending on Earth\\'s inhabitants. \\n\\nThroughout history, Luna\\'s presence inspired artists, poets, and musicians. Painters captured her ethereal beauty on canvas, poets poured out their souls in sonnets and odes dedicated to her, and composers wove her essence into their melodies. She became a constant muse, forever fueling the fires of human creativity. \\n\\nThen came a pivotal moment when the humans reached out for Luna, venturing into the vast expanse of space in the quest to touch her surface. In 1969, the world held its breath as astronauts Neil Armstrong and Edwin \"Buzz\" Aldrin took their historic steps on the moon, leaving behind an enduring footprint of human presence. \\n\\nAs the years passed, Luna continued her celestial journey, her silent presence eternal. Though explored and studied by humans, her mysteries remain veiled, waiting to be uncovered by future generations. Her light will continue to shine down on Earth, a celestial reminder of the infinite wonders that lie beyond our mortal realm.'"
      ]
     },
     "execution_count": 55,
     "metadata": {},
     "output_type": "execute_result"
    }
   ],
   "source": [
    "result.candidates[0].content.parts[0].text"
   ]
  },
  {
   "cell_type": "markdown",
   "id": "e72a30fd-bead-4f0a-9f22-a2eb05f51115",
   "metadata": {
    "tags": []
   },
   "source": [
    "## Gemini LLM Configuration Parameters\n",
    "\n",
    "### Temperature\n",
    "In Gemini LLM, the `temperature` parameter plays a crucial role in the response generation process. It's instrumental during the sampling phase, particularly when `top_p` and `top_k` parameters are in effect. Essentially, `temperature` influences the randomness in token selection:\n",
    "\n",
    "- **Low temperatures** are optimal for prompts necessitating deterministic, concise, and less creative responses.\n",
    "- **High temperatures** foster diverse and creative outcomes, enhancing the model's response variability.\n",
    "\n",
    "    - **Range**: `0.0 - 1.0`\n",
    "    - **Default Settings**:\n",
    "        - **gemini-pro**: `0.9`\n",
    "        - **gemini-pro-vision**: `0.4`"
   ]
  },
  {
   "cell_type": "code",
   "execution_count": 56,
   "id": "0fdbdcb5-af2b-4df5-83a9-3fba83816335",
   "metadata": {},
   "outputs": [
    {
     "name": "stdout",
     "output_type": "stream",
     "text": [
      "The United States of America, commonly known as the United States or America, is a country primarily located in North America. It consists of 50 states, a federal district, five major unincorporated territories, 326 Indian reservations, and nine minor islands. The United States is the world's third-largest country by land area, the third-largest by population, and the largest by nominal GDP.\n",
      "\n",
      "**History:**\n",
      "The United States emerged from the thirteen British colonies established along the Atlantic coast of North America in the 17th and 18th centuries. The American Revolutionary War (1775–1783) resulted in the colonies' independence from Great Britain, and the subsequent ratification of the Constitution in 1788 established the United States as a federal republic. The country expanded rapidly westward during the 19th century, acquiring new territories through warfare, diplomacy, and purchase. The American Civil War (1861–1865) resulted in the abolition of slavery and the preservation of the Union.\n",
      "\n",
      "**Geography:**\n",
      "The United States is bordered by Canada to the north, Mexico to the south, and the Atlantic Ocean to the east. The Pacific Ocean lies to the west, with Alaska in the northwest and Hawaii in the mid-Pacific. The country's terrain is diverse, ranging from the Atlantic coastal plain in the east to the Rocky Mountains in the west. The Great Plains lie between the two, and the Mississippi River flows through the center of the country.\n",
      "\n",
      "**Climate:**\n",
      "The United States has a wide variety of climates, from tropical in Hawaii and Florida to polar in Alaska. The country's climate is generally temperate, with hot summers and cold winters. The eastern part of the country is more humid than the western part, and the Great Plains are prone to tornadoes.\n",
      "\n",
      "**Economy:**\n",
      "The United States has a highly developed economy, with a GDP of over $20 trillion. The country is a major producer of agricultural products, manufactured goods, and services. The United States is also a major exporter of goods and services, and it is the world's largest importer of goods.\n",
      "\n",
      "**Government:**\n",
      "The United States is a federal republic, with a government divided into three branches: legislative, executive, and judicial. The legislative branch is composed of the Senate and the House of Representatives, which together form the Congress. The executive branch is headed by the President, who is also the commander-in-chief of the armed forces. The judicial branch is headed by the Supreme Court, which is the highest court in the land.\n",
      "\n",
      "**Culture:**\n",
      "The United States is a diverse country with a rich culture. The country's culture is influenced by its history, geography, and immigration. The United States is home to a wide variety of ethnic groups, religions, and languages. The country's culture is also influenced by its popular culture, which includes music, film, television, and sports.\n",
      "\n",
      "**Population:**\n",
      "The United States has a population of over 330 million people. The country's population is diverse, with people from all over the world. The United States is also home to a large number of immigrants, who make up about 14% of the population.\n",
      "\n",
      "**Major Cities:**\n",
      "The largest cities in the United States are New York City, Los Angeles, Chicago, Houston, and Philadelphia. These cities are major centers of commerce, culture, and transportation.\n"
     ]
    }
   ],
   "source": [
    "config = genai.types.GenerationConfig(temperature=0.0)\n",
    "result = get_response(\"Tell me about the United States\",generation_config=config)\n",
    "print(result.text)"
   ]
  },
  {
   "cell_type": "code",
   "execution_count": 57,
   "id": "ed7bc964-001e-4718-b12c-5e350c29f391",
   "metadata": {},
   "outputs": [
    {
     "name": "stdout",
     "output_type": "stream",
     "text": [
      "The United States of America, commonly known as the United States or America, is a country primarily located in North America. It consists of 50 states, a federal district, five major self-governing territories, and various minor islands. At 3.8 million square miles, the United States is the world's third- or fourth-largest country by total area and is slightly smaller than the entire continent of Europe. With a population of over 332 million people, it is the world's third-most populous country. The capital is Washington, D.C., and the most populous city is New York City.\n",
      "\n",
      "The United States is a federal republic and a constitutional democracy composed of 50 states, a federal district, five major territories, and various minor islands. It is home to a diverse population of over 332 million people, making it the third most populous country in the world. \n",
      "\n",
      "The United States is a highly developed country with the world's largest economy. It is a member of the G7, G8, G20, NATO, OECD, WTO, and the United Nations. The country has a strong military and is a nuclear power. Its culture and economy are influential around the world.\n",
      "\n",
      "The United States is known for its diversity, both in terms of its people and its landscapes. The country is home to people from all over the world, and its culture reflects this diversity. The United States is also known for its natural beauty, which includes vast forests, deserts, mountains, and coastlines.\n",
      "\n",
      "The United States has a long and complex history. The first European settlers arrived in the 16th century, and the country was founded in 1776 with the Declaration of Independence. The United States has been involved in numerous wars throughout its history, including the American Revolutionary War, the Civil War, and World War II. \n",
      "\n",
      "The United States is a major player in global affairs. It is a member of the United Nations Security Council and has been involved in numerous peacekeeping missions around the world. The United States is also a major player in the global economy and is a member of the World Trade Organization.\n",
      "\n",
      "The United States is a vibrant and dynamic country with a rich history and culture. It is a land of opportunity and diversity, and it is a major player in global affairs.\n"
     ]
    }
   ],
   "source": [
    "config = genai.types.GenerationConfig(temperature=1.0)\n",
    "result = get_response(\"Tell me about the United States\",generation_config=config)\n",
    "print(result.text)"
   ]
  },
  {
   "cell_type": "markdown",
   "id": "402aa027-594d-4f48-ba22-957aea1f6e11",
   "metadata": {
    "tags": []
   },
   "source": [
    "### max_output_tokens\n",
    "The `max_output_tokens` parameter defines the upper limit of tokens generated in a response. Notably, a token approximates four characters, translating to about 60-80 words for 100 tokens. Adjust this parameter based on the desired response length:\n",
    "\n",
    "- **Lower values** lead to shorter responses.\n",
    "- **Higher values** enable more extensive responses.\n",
    "\n",
    "    - **Ranges**:\n",
    "        - **gemini-pro**: `1-8192` (default: `8192`)\n",
    "        - **gemini-pro-vision**: `1-2048` (default: `2048`)"
   ]
  },
  {
   "cell_type": "code",
   "execution_count": 60,
   "id": "672e48ec-fb5c-4e29-a6f0-76b1c5c472cf",
   "metadata": {},
   "outputs": [
    {
     "name": "stdout",
     "output_type": "stream",
     "text": [
      "* **Official Name:** United States of America\n",
      "* **Commonly Known As:** U.S.A., USA, America, or The States\n",
      "* **Location:** North America, between Canada and Mexico\n",
      "* **Area:** 9,833,517 sq km (3,796,742 sq mi)\n",
      "* **Population:** 332,403,650 (2023 est.)\n",
      "* **Capital:** Washington, D.C.\n",
      "* **Largest City:** New York City\n",
      "* **Government:** Federal republic, constitutional democracy\n",
      "* **President:** Joe Biden\n",
      "* **Vice President:** Kamala Harris\n",
      "* **Currency:** United States dollar ($)\n",
      "* **Official Language:** English (de facto)\n",
      "* **National Anthem:** \"The Star-Spangled Banner\"\n",
      "\n",
      "The United States is a country with a rich and diverse history, culture, and landscape. It is home to some of the world's most iconic landmarks, including the Statue of Liberty, the Golden Gate Bridge, and the Grand Canyon. The country is also home to a vast array of natural resources, including forests, rivers, mountains, and deserts.\n",
      "\n",
      "The United States is a land of immigrants, with people from all over the world coming to the country in search of a better life. This has resulted in a vibrant and multicultural society, with a wide variety of languages, religions, and traditions.\n",
      "\n",
      "The United States is a global superpower, with a strong economy and a powerful military. It is also a leader in science, technology, and innovation. The country is a major cultural and entertainment exporter, with its films, music, and television shows popular around the world.\n",
      "\n",
      "The United States is a country with many challenges, including poverty, inequality, and racial injustice. However, it is also a country with a strong sense of hope and optimism, and a commitment to the values of freedom, democracy, and justice.\n"
     ]
    }
   ],
   "source": [
    "config = genai.types.GenerationConfig(max_output_tokens=500)\n",
    "result = get_response(\"Tell me about the United States\",generation_config=config)\n",
    "print(result.text)"
   ]
  },
  {
   "cell_type": "markdown",
   "id": "70768170-8ae8-4be9-b756-9a88b11086e2",
   "metadata": {
    "tags": []
   },
   "source": [
    "### top_k\n",
    "`top_k` parameter influences the model's token selection strategy for generating outputs. It's a measure of how many of the most probable tokens are considered at each step:\n",
    "\n",
    "- A **top_k of 1** implies a deterministic approach, choosing the most probable token.\n",
    "- Higher **top_k values** introduce diversity, selecting from a broader range of probable tokens based on the set `temperature`.\n",
    "\n",
    "    - **Range**: `1-40`\n",
    "    - **Default Settings**:\n",
    "        - **gemini-pro-vision**: `32`\n",
    "        - **gemini-pro**: Not specified (none)"
   ]
  },
  {
   "cell_type": "code",
   "execution_count": 71,
   "id": "21fea7fb-702a-45cb-a4d3-e47163b616f2",
   "metadata": {},
   "outputs": [
    {
     "name": "stdout",
     "output_type": "stream",
     "text": [
      "- **History:** The United States is a relatively young country, with its independence proclaimed on July 4, 1776. It was formed by 13 British colonies along the Atlantic coast of North America and has since expanded to include 50 states.\n",
      "- **Geography:** The United States is bordered by Canada to the north, Mexico to the south, and the Atlantic and Pacific Oceans to the east and west, respectively. It is the third-largest country by land area, after Canada and China.\n",
      "- **Population:** The United States has a population of over 334 million people, making it the world's third most populous country. It is a diverse nation, with people from many different ethnic and cultural backgrounds.\n",
      "- **Government:** The United States is a federal republic with a strong central government and individual state governments. The head of state and government is the President, who is elected by the people every four years. The President appoints a cabinet of advisors and works with Congress, which consists of the Senate and the House of Representatives.\n",
      "- **Economy:** The United States has the world's largest economy, with a gross domestic product (GDP) of over $25 trillion. The country is a major producer of goods and services, including automobiles, electronics, and agricultural products.\n",
      "- **Culture:** The United States is a vibrant and diverse culture, with a mix of influences from around the world. It is known for its popular culture, including music, movies, and television shows. The country is also home to many world-renowned museums, art galleries, and historical sites.\n",
      "- **Military:** The United States has a powerful military, with the world's largest defense budget and a large number of active and reserve military personnel. The country is also a major arms exporter and is involved in many security and military alliances around the world.\n",
      "- **Foreign Policy:** The United States has a significant role in world affairs and is a member of a number of international organizations, including the United Nations, the World Trade Organization, and the North Atlantic Treaty Organization (NATO). The country has been involved in many major international conflicts, including the World Wars, the Cold War, and the War on Terror.\n"
     ]
    }
   ],
   "source": [
    "config = genai.types.GenerationConfig(top_k=1)\n",
    "result = get_response(\"Tell me about the United States\",generation_config=config)\n",
    "print(result.text)"
   ]
  },
  {
   "cell_type": "code",
   "execution_count": 74,
   "id": "f312c3e2-f8b7-4a9e-9ffd-3ec20b650f1c",
   "metadata": {},
   "outputs": [
    {
     "name": "stdout",
     "output_type": "stream",
     "text": [
      "The United States of America (USA), also known as the United States, is a country in North America. It consists of 50 states, a federal district, five major territories, and various minor islands. The United States is the world's third-largest country by land area, after Canada and Russia, and the third-most populous, with over 332 million people. The capital is Washington, D.C., and the most populous city is New York City.\n",
      "\n",
      "**History:**\n",
      "- The United States was founded in 1776 by 13 British colonies along the Atlantic coast that declared independence from Great Britain. The American Revolutionary War (1775-1783) ensued, resulting in the victory of the colonists and the establishment of the United States as an independent nation.\n",
      "- Throughout the 19th century, the United States experienced significant territorial expansion, annexing territories from France, Spain, Mexico, and Britain. This led to the formation of new states and westward expansion.\n",
      "- The Civil War (1861-1865) between the northern and southern states over the issue of slavery resulted in the abolition of slavery and the preservation of the Union.\n",
      "- In the 20th century, the United States played a major role in both World Wars, emerging as a global superpower. It was also a leading force in the Cold War against the Soviet Union.\n",
      "\n",
      "**Economy:**\n",
      "- The United States has the world's largest economy, with a nominal GDP of over $25 trillion. It is a highly developed country with a diverse economy based on services, manufacturing, agriculture, and technology.\n",
      "- The United States is a major exporter of goods and services, including agricultural products, machinery, chemicals, and automobiles. It is also a major importer of goods, including oil, consumer goods, and electronics.\n",
      "\n",
      "**Culture:**\n",
      "- The United States is a culturally diverse nation with influences from various ethnic and racial groups. It is known for its vibrant popular culture, including music, film, television, and sports.\n",
      "- The United States has a rich literary tradition, with notable authors such as Mark Twain, Ernest Hemingway, and William Faulkner. It is also home to many prestigious universities and research institutions, including Harvard University, Stanford University, and the Massachusetts Institute of Technology (MIT).\n",
      "\n",
      "**Politics:**\n",
      "- The United States is a constitutional republic with a federal government consisting of three branches: legislative, executive, and judicial. The legislative branch is represented by the bicameral Congress, comprising the Senate and the House of Representatives. The executive branch is headed by the President, who is both the head of state and the head of government. The judicial branch is composed of the Supreme Court and lower federal courts.\n",
      "\n",
      "**Foreign Relations:**\n",
      "- The United States is a leading global power and plays a significant role in international affairs. It is a member of the United Nations, NATO, and other international organizations. The United States has strong diplomatic and economic ties with many countries worldwide.\n",
      "\n",
      "**Military:**\n",
      "- The United States has the world's most powerful military, with a defense budget exceeding $700 billion. It maintains a large and technologically advanced military force, including the Army, Navy, Air Force, Marine Corps, and Coast Guard.\n"
     ]
    }
   ],
   "source": [
    "config = genai.types.GenerationConfig(top_k=40)\n",
    "result = get_response(\"Tell me about the United States\",generation_config=config)\n",
    "print(result.text)"
   ]
  },
  {
   "cell_type": "markdown",
   "id": "6532d2ef-bdbc-43b3-969d-237656bb618a",
   "metadata": {
    "tags": []
   },
   "source": [
    "### top_p\n",
    "The `top_p` parameter, akin to `top_k`, modifies the token selection process. It considers tokens from the most to least probable, cumulatively, until their probabilities match the `top_p` value. The model then selects the next token within this subset, guided by the `temperature` parameter:\n",
    "\n",
    "- **Lower `top_p` values** lead to more predictable responses.\n",
    "- **Higher `top_p` values** permit a wider array of potential responses, injecting randomness.\n",
    "\n",
    "    - **Range**: `0.0 - 1.0`\n",
    "    - **Default**: `1.0`"
   ]
  },
  {
   "cell_type": "code",
   "execution_count": 75,
   "id": "ebe4d065-b737-44ad-b3a2-c9174f73dae6",
   "metadata": {},
   "outputs": [
    {
     "name": "stdout",
     "output_type": "stream",
     "text": [
      "The United States of America, commonly known as the United States or America, is a country primarily located in North America. It consists of 50 states, a federal district, five major unincorporated territories, 326 Indian reservations, and nine minor islands. The United States is the world's third-largest country by land area, the third-largest by population, and the largest by nominal GDP.\n",
      "\n",
      "**History:**\n",
      "The United States emerged from the thirteen British colonies established along the Atlantic coast of North America in the 17th and 18th centuries. The American Revolutionary War (1775–1783) resulted in the colonies' independence from Great Britain, and the subsequent ratification of the Constitution in 1788 established the United States as a federal republic. The country expanded rapidly westward during the 19th century, acquiring new territories through warfare, diplomacy, and purchase. The American Civil War (1861–1865) resulted in the abolition of slavery and the preservation of the Union.\n",
      "\n",
      "**Geography:**\n",
      "The United States is bordered by Canada to the north, Mexico to the south, and the Atlantic Ocean to the east. The Pacific Ocean lies to the west, with Alaska in the northwest and Hawaii in the mid-Pacific. The country's terrain is diverse, ranging from the Atlantic coastal plain in the east to the Rocky Mountains in the west. The Great Plains lie between the two, and the Mississippi River flows through the center of the country.\n",
      "\n",
      "**Climate:**\n",
      "The United States has a wide variety of climates, from tropical in Hawaii and Florida to polar in Alaska. The country's climate is generally temperate, with hot summers and cold winters. The eastern part of the country is more humid than the western part, and the Great Plains are prone to tornadoes.\n",
      "\n",
      "**Economy:**\n",
      "The United States has a highly developed economy, with a GDP of over $20 trillion. The country is a major producer of agricultural products, manufactured goods, and services. The United States is also a major exporter of goods and services, and it is the world's largest importer of goods.\n",
      "\n",
      "**Government:**\n",
      "The United States is a federal republic, with a government divided into three branches: legislative, executive, and judicial. The legislative branch is composed of the Senate and the House of Representatives, which together form the Congress. The executive branch is headed by the President, who is also the commander-in-chief of the armed forces. The judicial branch is headed by the Supreme Court, which is the highest court in the land.\n",
      "\n",
      "**Culture:**\n",
      "The United States is a culturally diverse country, with a wide variety of ethnic groups, languages, and religions. The country's culture has been influenced by its European, African, and Native American heritage, as well as by immigration from all over the world. The United States is known for its popular culture, including its music, movies, and television shows.\n",
      "\n",
      "**Population:**\n",
      "The United States has a population of over 330 million people. The country is ethnically diverse, with a majority of the population being white. Other major ethnic groups include African Americans, Hispanics, Asian Americans, and Native Americans. The United States is also a major destination for immigrants, and the country's population is constantly changing.\n"
     ]
    }
   ],
   "source": [
    "config = genai.types.GenerationConfig(top_p=0)\n",
    "result = get_response(\"Tell me about the United States\",generation_config=config)\n",
    "print(result.text)"
   ]
  },
  {
   "cell_type": "code",
   "execution_count": 77,
   "id": "f54cb73a-523e-479e-b502-56e8faf6418d",
   "metadata": {},
   "outputs": [
    {
     "name": "stdout",
     "output_type": "stream",
     "text": [
      "1. **Geography and Topography:**\n",
      "   - The United States is located in North America, bordering Canada to the north and Mexico to the south.\n",
      "   - It is the third largest country by land area, covering approximately 9.8 million square kilometers (3.8 million square miles).\n",
      "   - The country's diverse topography includes mountain ranges, deserts, forests, plains, and coastal areas. Notable geographical features include the Appalachian Mountains, the Rocky Mountains, the Great Plains, the Mojave Desert, and the coastline along the Atlantic and Pacific Oceans.\n",
      "\n",
      "2. **History and Founding:**\n",
      "   - The United States originated from 13 British colonies established along the Atlantic coast during the 17th and 18th centuries.\n",
      "   - The American Revolutionary War (1775-1783) led to the colonies' independence from British rule, and the Declaration of Independence was signed on July 4, 1776.\n",
      "   - The United States Constitution was adopted in 1788, establishing the framework for a federal republic.\n",
      "\n",
      "3. **Government and Politics:**\n",
      "   - The United States is a federal republic with a presidential system of government.\n",
      "   - The three branches of government are the legislative (Congress), executive (President), and judicial (Supreme Court).\n",
      "   - The country is divided into 50 states, each with its own state government, and the District of Columbia, which is the federal capital.\n",
      "\n",
      "4. **Population and Demographics:**\n",
      "   - The United States has a population of over 330 million people, making it the third most populous country in the world.\n",
      "   - The population is diverse, with people from various ethnic, racial, and cultural backgrounds.\n",
      "   - English is the official language, but many other languages are spoken throughout the country.\n",
      "\n",
      "5. **Economy and Currency:**\n",
      "   - The United States has the world's largest economy by nominal gross domestic product (GDP).\n",
      "   - The currency is the United States dollar ($), which is also widely used as a reserve currency around the world.\n",
      "   - The economy is characterized by a mix of private enterprise and government regulation. Major industries include technology, finance, manufacturing, and agriculture.\n",
      "\n",
      "6. **Culture and Society:**\n",
      "   - The United States has a rich and diverse culture influenced by various immigrant groups and indigenous traditions.\n",
      "   - American culture is known for its media and entertainment industries, including Hollywood movies, television shows, and music.\n",
      "   - Sports play a significant role in American culture, with popular sports including baseball, football, basketball, and ice hockey.\n",
      "\n",
      "7. **International Relations:**\n",
      "   - The United States is a major player in international affairs and a permanent member of the United Nations Security Council.\n",
      "   - It has diplomatic relations with most countries and engages in bilateral and multilateral agreements on various issues, including trade, security, and climate change.\n",
      "\n",
      "8. **Military and Defense:**\n",
      "   - The United States has one of the most powerful militaries in the world.\n",
      "   - The country spends a significant portion of its budget on defense and maintains a large military presence both domestically and abroad.\n",
      "\n",
      "9. **Education and Healthcare:**\n",
      "   - The United States has a well-developed education system, with a focus on both public and private institutions at various levels.\n",
      "   - Healthcare in the United States is largely privatized, with a mix of public and private providers. Access to healthcare varies depending on factors such as income and insurance coverage.\n",
      "\n",
      "10. **Tourism and Travel:**\n",
      "    - The United States is a popular tourist destination, known for its iconic landmarks, natural wonders, and cultural attractions.\n",
      "    - Major tourist destinations include New York City, Los Angeles, Washington, D.C., and national parks like the Grand Canyon and Yosemite National Park.\n"
     ]
    }
   ],
   "source": [
    "config = genai.types.GenerationConfig(top_p=1)\n",
    "result = get_response(\"Tell me about the United States\",generation_config=config)\n",
    "print(result.text)"
   ]
  },
  {
   "cell_type": "markdown",
   "id": "7cefa648-7726-4128-bc4d-684e5c74c708",
   "metadata": {
    "tags": []
   },
   "source": [
    "### candidate_count\n",
    "The `candidate_count` parameter determines the quantity of different response variations the model generates. For Gemini LLM, this value is fixed:\n",
    "\n",
    "- **Required Value**: `1`\n",
    "\n",
    "**IMPORTANT NOTE: AT THIS TIME, YOU ARE ONLY ALLOWED ONE CANDIDATE, BUT CHECK THE OFFICIAL DOCS FOR AN UPDATE IN THE FUTURE!**"
   ]
  },
  {
   "cell_type": "code",
   "execution_count": 69,
   "id": "78cb6f8b-b3bc-44b2-b486-776155c12a6c",
   "metadata": {},
   "outputs": [],
   "source": [
    "config = genai.types.GenerationConfig(candidate_count=1)\n",
    "result = get_response(\"Give me 3 top facts about the United States\",generation_config=config)"
   ]
  },
  {
   "cell_type": "code",
   "execution_count": 70,
   "id": "d026c41a-01d4-4f31-abd0-c1fada8dae6e",
   "metadata": {},
   "outputs": [
    {
     "name": "stdout",
     "output_type": "stream",
     "text": [
      "1. **The United States is the fourth largest country in the world by land area:** Spanning over 9.8 million square kilometers (3.8 million square miles), the United States is larger than China and India, but smaller than Russia and Canada.\n",
      "\n",
      "\n",
      "2. **The United States is the most diverse country in the world:** With people from all over the globe, the United States has the largest population of immigrants from any country in the world. This diversity has created a unique and vibrant culture that is reflected in the country's arts, cuisine, and music.\n",
      "\n",
      "\n",
      "3. **The United States is the world's largest economy:** With a gross domestic product (GDP) of over $20 trillion, the United States is the world's largest economy. The country is a major producer of goods and services, and its currency, the US dollar, is the world's reserve currency.\n"
     ]
    }
   ],
   "source": [
    "print(result.text)"
   ]
  },
  {
   "cell_type": "markdown",
   "id": "d20d3853-559d-453a-a4eb-733cfc3de717",
   "metadata": {
    "tags": []
   },
   "source": [
    "### stop_sequences\n",
    "`stop_sequences` is a feature allowing the specification of strings that prompt the model to cease text generation. The response is truncated at the first occurrence of any listed string. This feature is sensitive to the case of the strings:\n",
    "\n",
    "- **Usage Example**: If \"Str\" and \"reverse\" are in `stop_sequences`, the model stops generating text at their first appearance.\n",
    "- **Limitation**: A maximum of 5 strings can be listed in `stop_sequences`."
   ]
  },
  {
   "cell_type": "code",
   "execution_count": 62,
   "id": "baa947c9-b778-4c66-a64c-528f1c15d91b",
   "metadata": {},
   "outputs": [
    {
     "name": "stdout",
     "output_type": "stream",
     "text": [
      "* A\n",
      "* B\n",
      "* C\n",
      "* D\n",
      "* E\n",
      "* F\n",
      "* G\n",
      "* H\n",
      "* I\n",
      "* J\n",
      "* K\n",
      "* L\n",
      "* M\n",
      "* N\n",
      "* O\n",
      "* P\n",
      "* Q\n",
      "* R\n",
      "* S\n",
      "* T\n",
      "* U\n",
      "* V\n",
      "* W\n",
      "* \n"
     ]
    }
   ],
   "source": [
    "config = genai.types.GenerationConfig(stop_sequences=['x','X'])\n",
    "result = get_response(\"Give me a list of all the letters in the alphabet\",generation_config=config)\n",
    "print(result.text)"
   ]
  },
  {
   "cell_type": "code",
   "execution_count": 67,
   "id": "88e251c2-53a4-4b10-8e18-d9bad02b241d",
   "metadata": {},
   "outputs": [
    {
     "name": "stdout",
     "output_type": "stream",
     "text": [
      "Subject: Thank you for your inquiry!\n",
      "\n",
      "Dear [Customer's name],\n",
      "\n",
      "First and foremost, thank you for reaching out to us regarding your recent inquiry. We greatly appreciate you taking the time to share your thoughts and concerns. Our team is dedicated to providing our customers with a unique and unparalleled experience, and your feedback is essential in helping us achieve that goal.\n",
      "\n",
      "Rest assured that we have received your inquiry and have already begun working on a resolution. Your concerns are being carefully reviewed, and a member of our support team will be in touch with you shortly to discuss your options and provide a satisfactory solution.\n",
      "\n",
      "In the meantime, please don't hesitate to contact us if you have any additional questions or need further assistance. Our dedicated team is always ready to support you and ensure your satisfaction.\n",
      "\n",
      "Once again, thank you for your patience and understanding. We appreciate your continued trust in our products and services.\n",
      "\n",
      "Sincerely,\n",
      "\n",
      "[Your name]\n",
      "[Your title]\n",
      "[Company name]\n"
     ]
    }
   ],
   "source": [
    "config = genai.types.GenerationConfig(stop_sequences=[])\n",
    "result = get_response(\"Write a customer support email thanking the customer for reaching out. End it with 'Sincerely'\",generation_config=config)\n",
    "print(result.text)"
   ]
  },
  {
   "cell_type": "code",
   "execution_count": 66,
   "id": "6e7d882c-0aa0-445e-88ea-41f39bec4c77",
   "metadata": {},
   "outputs": [
    {
     "name": "stdout",
     "output_type": "stream",
     "text": [
      "Dear [Customer Name],\n",
      "\n",
      "Thank you for reaching out to us. We appreciate you taking the time to contact us regarding your recent experience with our product or service. We take customer feedback very seriously, and we want to assure you that we are committed to providing our customers with a positive and satisfactory experience.\n",
      "\n",
      "We will thoroughly review your feedback and take appropriate steps to address the issues you have raised. Our goal is to ensure that you are completely satisfied with your purchase and that you continue to have a positive experience with our products or services in the future.\n",
      "\n",
      "We thank you for your patience and understanding as we work to resolve this matter. Your feedback is invaluable to us, and it helps us improve our products and services for all of our customers.\n",
      "\n",
      "\n"
     ]
    }
   ],
   "source": [
    "config = genai.types.GenerationConfig(stop_sequences=['Sincerely'])\n",
    "result = get_response(\"Write a customer support email thanking the customer for reaching out. End it with 'Sincerely'\",generation_config=config)\n",
    "print(result.text)"
   ]
  },
  {
   "cell_type": "code",
   "execution_count": null,
   "id": "2bd1f565-0cbe-4909-b4ab-14773ac1234a",
   "metadata": {},
   "outputs": [],
   "source": []
  }
 ],
 "metadata": {
  "kernelspec": {
   "display_name": "Python 3 (ipykernel)",
   "language": "python",
   "name": "python3"
  },
  "language_info": {
   "codemirror_mode": {
    "name": "ipython",
    "version": 3
   },
   "file_extension": ".py",
   "mimetype": "text/x-python",
   "name": "python",
   "nbconvert_exporter": "python",
   "pygments_lexer": "ipython3",
   "version": "3.9.12"
  }
 },
 "nbformat": 4,
 "nbformat_minor": 5
}
