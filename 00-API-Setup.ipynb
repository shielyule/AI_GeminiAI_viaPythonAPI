{
 "cells": [
  {
   "cell_type": "markdown",
   "id": "857ad0d9-9c6e-4df9-acc6-7dde753d78f6",
   "metadata": {},
   "source": [
    "<center><a href=\"https://www.pieriantraining.com/\" ><img src=\"../PTCenteredPurple.png\" alt=\"Pierian Training Logo\" /></a></center>\n"
   ]
  },
  {
   "cell_type": "markdown",
   "id": "8cfc0f48-cb44-4a2a-80d2-aa22449b31af",
   "metadata": {},
   "source": [
    "# Gemini API\n",
    "\n",
    "In the world of artificial intelligence, language models have evolved to handle multimodal information, enabling them to understand and synthesize data from text and images. Google's Gemini API spearheads this advancement, introducing models that enable multimodal understanding and generation.\n",
    "\n",
    "The Gemini API serves as the key to unlocking these models' capabilities, providing a toolkit for building AI applications.\n",
    "\n",
    "Key Features of the Gemini API:\n",
    "\n",
    "- Multimodal Understanding: Gemini models can process and comprehend information from text and images\n",
    "- Generative Power: Gemini models excel at generating text, translating languages, writing different creative content formats, and answering your questions informatively.\n",
    "- Versatility: Gemini models can be adapted to a wide range of applications, including chatbots, creative writing tools, and information retrieval systems.\n",
    "\n",
    "\n",
    "---"
   ]
  },
  {
   "cell_type": "markdown",
   "id": "2b71ebce-e32c-45f7-b6d3-e3df072a08c2",
   "metadata": {},
   "source": [
    "**This Jupyter notebook will delve into getting setup with Gemini Python API, make sure to watch the video for full details, espeically on actually getting the API key value!**"
   ]
  },
  {
   "cell_type": "markdown",
   "id": "01703e2c-e65a-4b97-a83e-915a4e3fd921",
   "metadata": {},
   "source": [
    "## Installation of Python SDK\n",
    "\n",
    "First up, you need to install the Python SDK for Google's Gemini models, note that this is a different Python SDK than previous Google LLMs such as PaLM. You can install it at the command line with:\n",
    "\n",
    "    pip install google-generativeai\n",
    "    \n",
    "Or you can try running it directly in your notebook (keep in mind that in a virtual environment, you sometimes need to re-install Jupyter in that virtual environment to reconnect it to the libraries, you may also need to restart the kernel."
   ]
  },
  {
   "cell_type": "code",
   "execution_count": 2,
   "id": "4e3cf054-21cb-4cc1-9d56-17fa8567b82d",
   "metadata": {},
   "outputs": [],
   "source": [
    "# !pip install google-generativeai"
   ]
  },
  {
   "cell_type": "markdown",
   "id": "eff41dea-d06b-4396-adb8-c484c5b03f3f",
   "metadata": {},
   "source": [
    "Confirm the installation by running the import:"
   ]
  },
  {
   "cell_type": "code",
   "execution_count": 3,
   "id": "9f4147ae-26cd-48c9-b4a9-d9af16fe5283",
   "metadata": {},
   "outputs": [],
   "source": [
    "import google.generativeai as genai"
   ]
  },
  {
   "cell_type": "markdown",
   "id": "8265aa20-85cd-4c27-b26e-16ee98326743",
   "metadata": {},
   "source": [
    "# API Key\n",
    "\n",
    "You'll need to generate an API key for Gemini by going to: https://makersuite.google.com/app/apikey and creating a new API Key. Here is a screenshot:\n",
    "\n",
    "<center><img src=\"ai_studio_snip.jpg\"></center>\n",
    "\n",
    "Eventually you should be able to get a key, it will look something like this: \"XE4tlk8VrP9jsH7yLmQbDfNeZC5vYqx3WbTghJZ\" (obviously this is not a real API key)\n",
    "\n",
    "## API Key Troubleshooting Notes:\n",
    "\n",
    "* It is important to note that you may need to allow access to \"Early Access Apps\" in order to get the API key. Here is a troubleshooting guide from Google explaining how to set-up access: https://ai.google.dev/tutorials/workspace_auth_quickstart\n",
    "\n",
    "* If you get an error saying \"The caller does not have permission\" it is because you are only allowed ONE key PER project, you should see if you already have an existing project that Google made for you, often called something like \"Generative Language Client\", for more info: https://stackoverflow.com/questions/77762483/the-caller-does-not-have-permission-when-creating-api-key\n",
    "----\n",
    "\n",
    "## Saving and Setting your API Key\n",
    "\n",
    "To securely save and reuse your API key in Jupyter Notebook using Python, you should avoid hardcoding it directly into your notebook. Instead, you can use environment variables or external files. Here are a couple of methods:\n",
    "\n",
    "### Using Environment Variables\n",
    "\n",
    "1. **Set the Environment Variable**: \n",
    "   - On Windows, use the command prompt to set an environment variable: \n",
    "     ```\n",
    "     setx GEMINI_API_KEY \"XE4tlk8VrP9jsH7yLmQbDfNeZC5vYqx3WbTghJZ\"\n",
    "     ```\n",
    "   - On macOS/Linux, use the terminal:\n",
    "     ```\n",
    "     export GEMINI_API_KEY=\"XE4tlk8VrP9jsH7yLmQbDfNeZC5vYqx3WbTghJZ\"\n",
    "     ```\n",
    "   - Note: After setting this, you might need to restart your Jupyter Notebook for the changes to take effect.\n",
    "   - You can technically also do this via Python's os library:\n",
    "   \n",
    "     ```python\n",
    "     import os\n",
    "     os.environ['GEMINI_API_KEY'] = \"XE4tlk8VrP9jsH7yLmQbDfNeZC5vYqx3WbTghJZ\"\n",
    "     ```\n",
    "     \n",
    "     but this sometimes is not permanent and is only live for that session, depending on your installation of Jupyter and Environment.\n",
    "\n",
    "2. **Access in Jupyter Notebook**:\n",
    "   - In your Jupyter notebook, use the `os` module to access the environment variable:\n",
    "   \n",
    "     ```python\n",
    "     import os\n",
    "     api_key = os.environ.get('GEMINI_API_KEY')\n",
    "     ```\n",
    "---"
   ]
  },
  {
   "cell_type": "markdown",
   "id": "1f7111ce-5f2b-44a8-8aaf-32398ac4bc5e",
   "metadata": {},
   "source": [
    "## Connect to Gemini via API Call in Python\n",
    "\n",
    "Let's start by listing all available models to confirm our connection!"
   ]
  },
  {
   "cell_type": "code",
   "execution_count": 4,
   "id": "247f499c-2ece-43c4-9ff5-745f5aee33b3",
   "metadata": {},
   "outputs": [],
   "source": [
    "import os\n",
    "# api_key = 'XE4tlk8VrP9jsH7yLmQbDfNeZC5vYqx3WbTghJZ'"
   ]
  },
  {
   "cell_type": "code",
   "execution_count": 10,
   "id": "fcee58c5-e7a2-41f8-89d4-2b52b8b2ad45",
   "metadata": {},
   "outputs": [],
   "source": [
    "import google.generativeai as genai\n",
    "genai.configure(api_key=api_key)"
   ]
  },
  {
   "cell_type": "markdown",
   "id": "195e33e5-f8d2-4f16-ae00-c100f11d7d29",
   "metadata": {},
   "source": [
    "### Listing all available models\n",
    "\n",
    "Confirm everything is working by listing all available models for your account, you should see a gemini-pro and gemini-pro-vision, keep in mind, there may be more versions of gemini released in the future, like gemini-nano or gemini-ultra."
   ]
  },
  {
   "cell_type": "code",
   "execution_count": 11,
   "id": "13b0849d-7386-47bd-989e-70c5ae5d663c",
   "metadata": {},
   "outputs": [
    {
     "name": "stdout",
     "output_type": "stream",
     "text": [
      "models/gemini-pro\n",
      "models/gemini-pro-vision\n"
     ]
    }
   ],
   "source": [
    "for m in genai.list_models():\n",
    "    if 'generateContent' in m.supported_generation_methods:\n",
    "        print(m.name)"
   ]
  }
 ],
 "metadata": {
  "kernelspec": {
   "display_name": "Python 3 (ipykernel)",
   "language": "python",
   "name": "python3"
  },
  "language_info": {
   "codemirror_mode": {
    "name": "ipython",
    "version": 3
   },
   "file_extension": ".py",
   "mimetype": "text/x-python",
   "name": "python",
   "nbconvert_exporter": "python",
   "pygments_lexer": "ipython3",
   "version": "3.9.12"
  }
 },
 "nbformat": 4,
 "nbformat_minor": 5
}
