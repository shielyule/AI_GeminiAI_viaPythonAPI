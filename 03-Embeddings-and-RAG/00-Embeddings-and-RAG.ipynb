{
 "cells": [
  {
   "cell_type": "markdown",
   "id": "d2f8c36c-8d61-4be5-9324-7fcb9cb88ffd",
   "metadata": {},
   "source": [
    "<center><a href=\"https://www.pieriantraining.com/\" ><img src=\"../PTCenteredPurple.png\" alt=\"Pierian Training Logo\" /></a></center>\n"
   ]
  },
  {
   "cell_type": "markdown",
   "id": "e4639f21-cb29-42c8-80c6-da19fb92e5a7",
   "metadata": {
    "tags": []
   },
   "source": [
    "# Embeddings and RAG\n",
    "\n",
    "We can take advantage of the embedding capability of models to perform Retrieval Augmented Generation, otherwise known as RAG. This allows us to automatically look up semantically similar documents and inject them as context to our query. Let's break this down into steps."
   ]
  },
  {
   "cell_type": "markdown",
   "id": "8c560d82-09f8-4e28-9d28-42b5e0a34ef6",
   "metadata": {},
   "source": [
    "## STEP 1: Original Documents\n",
    "\n",
    "Let's create some strings to act as text documents, later we will read in other files, like PDFs."
   ]
  },
  {
   "cell_type": "code",
   "execution_count": 26,
   "id": "a0a9d941-4cbd-485c-923a-e78177840f50",
   "metadata": {},
   "outputs": [],
   "source": [
    "sports_news_text = {'title':'Sports Section',\n",
    "                    'text':\"The San Francisco 49ers are heading to the super bowl in a football showdown!\"}"
   ]
  },
  {
   "cell_type": "code",
   "execution_count": 27,
   "id": "120cbf91-4eb3-4cf1-95b1-222d877e3685",
   "metadata": {},
   "outputs": [],
   "source": [
    "finance_news_text = {'title':\"Finance Section\",\n",
    "                     'text':\"Meta stock has reached all time highs and has become a major part of the S&P500.\"}"
   ]
  },
  {
   "cell_type": "markdown",
   "id": "8783d388-aac9-495d-b1c1-0b7f18b66fff",
   "metadata": {},
   "source": [
    "## Step 2: Load Embedding Model"
   ]
  },
  {
   "cell_type": "code",
   "execution_count": 28,
   "id": "843568b0-6709-4ba4-b95c-23a6d1141b94",
   "metadata": {},
   "outputs": [],
   "source": [
    "import google.generativeai as genai\n",
    "genai.configure(api_key=api_key)"
   ]
  },
  {
   "cell_type": "code",
   "execution_count": 17,
   "id": "718c9e12-f441-4ffe-8dad-7c327e89c3a2",
   "metadata": {},
   "outputs": [],
   "source": [
    "# for model in genai.list_models():\n",
    "#     print(model)"
   ]
  },
  {
   "cell_type": "markdown",
   "id": "61319c4a-ebc5-404f-8f10-69d4b612bf28",
   "metadata": {},
   "source": [
    "## Step 3: Create Vector Embeddings"
   ]
  },
  {
   "cell_type": "code",
   "execution_count": 39,
   "id": "695044ef-c73a-4f86-97e2-91e29b3380de",
   "metadata": {},
   "outputs": [],
   "source": [
    "sports_embedding_vector = genai.embed_content(model='models/embedding-001',content=sports_news_text['text'],\n",
    "                             task_type='retrieval_document')"
   ]
  },
  {
   "cell_type": "code",
   "execution_count": 40,
   "id": "1346fe4c-d7bb-4c68-b46c-5fab37268798",
   "metadata": {},
   "outputs": [
    {
     "data": {
      "text/plain": [
       "768"
      ]
     },
     "execution_count": 40,
     "metadata": {},
     "output_type": "execute_result"
    }
   ],
   "source": [
    "len(sports_embedding_vector['embedding'])"
   ]
  },
  {
   "cell_type": "code",
   "execution_count": 41,
   "id": "45e17329-4349-41ce-920e-cbb75c79ff87",
   "metadata": {},
   "outputs": [],
   "source": [
    "finance_embedding_vector = genai.embed_content(model='models/embedding-001',content=finance_news_text['text'],\n",
    "                             task_type='retrieval_document')"
   ]
  },
  {
   "cell_type": "code",
   "execution_count": 42,
   "id": "5356bff7-55bf-4e15-bf00-d5f87c318daf",
   "metadata": {},
   "outputs": [
    {
     "data": {
      "text/plain": [
       "768"
      ]
     },
     "execution_count": 42,
     "metadata": {},
     "output_type": "execute_result"
    }
   ],
   "source": [
    "len(finance_embedding_vector['embedding'])"
   ]
  },
  {
   "cell_type": "code",
   "execution_count": 43,
   "id": "1e7a5bca-50ee-46a0-9d1a-5ebb2acf242d",
   "metadata": {},
   "outputs": [
    {
     "data": {
      "text/plain": [
       "dict_keys(['embedding'])"
      ]
     },
     "execution_count": 43,
     "metadata": {},
     "output_type": "execute_result"
    }
   ],
   "source": [
    "finance_embedding_vector.keys()"
   ]
  },
  {
   "cell_type": "markdown",
   "id": "2cf53e8b-b0bd-4929-900f-67d4fcfd5278",
   "metadata": {},
   "source": [
    "Let's create a function for this process:"
   ]
  },
  {
   "cell_type": "code",
   "execution_count": 45,
   "id": "fed07053-ff00-43ce-95d5-eaecc7f668e4",
   "metadata": {},
   "outputs": [],
   "source": [
    "def embed_text(text):\n",
    "    return genai.embed_content(model='models/embedding-001',content=text,\n",
    "                             task_type='retrieval_document')['embedding']"
   ]
  },
  {
   "cell_type": "markdown",
   "id": "ef740898-8f52-4e32-87ac-523b84f915c4",
   "metadata": {},
   "source": [
    "## Step 4: Store Embeddings\n",
    "\n",
    "For larger applications, you should use a vector database, like ChromaDB, but for now we'll create our own simple Vector Database connecting the embedding to the model for RAG."
   ]
  },
  {
   "cell_type": "code",
   "execution_count": 46,
   "id": "5c43dbf0-2aba-4a54-ad31-6c56d7ee8526",
   "metadata": {},
   "outputs": [],
   "source": [
    "import pandas as pd"
   ]
  },
  {
   "cell_type": "code",
   "execution_count": 47,
   "id": "78c2a8ef-1664-4713-a9e5-0dbac708e8db",
   "metadata": {},
   "outputs": [],
   "source": [
    "df = pd.DataFrame()"
   ]
  },
  {
   "cell_type": "code",
   "execution_count": 48,
   "id": "ed0bab16-8017-4445-8fe1-a9a52f1154b7",
   "metadata": {},
   "outputs": [
    {
     "data": {
      "text/html": [
       "<div>\n",
       "<style scoped>\n",
       "    .dataframe tbody tr th:only-of-type {\n",
       "        vertical-align: middle;\n",
       "    }\n",
       "\n",
       "    .dataframe tbody tr th {\n",
       "        vertical-align: top;\n",
       "    }\n",
       "\n",
       "    .dataframe thead th {\n",
       "        text-align: right;\n",
       "    }\n",
       "</style>\n",
       "<table border=\"1\" class=\"dataframe\">\n",
       "  <thead>\n",
       "    <tr style=\"text-align: right;\">\n",
       "      <th></th>\n",
       "      <th>Title</th>\n",
       "      <th>Text</th>\n",
       "    </tr>\n",
       "  </thead>\n",
       "  <tbody>\n",
       "    <tr>\n",
       "      <th>0</th>\n",
       "      <td>Finance Section</td>\n",
       "      <td>Meta stock has reached all time highs and has ...</td>\n",
       "    </tr>\n",
       "    <tr>\n",
       "      <th>1</th>\n",
       "      <td>Sports Section</td>\n",
       "      <td>The San Francisco 49ers are heading to the sup...</td>\n",
       "    </tr>\n",
       "  </tbody>\n",
       "</table>\n",
       "</div>"
      ],
      "text/plain": [
       "             Title                                               Text\n",
       "0  Finance Section  Meta stock has reached all time highs and has ...\n",
       "1   Sports Section  The San Francisco 49ers are heading to the sup..."
      ]
     },
     "execution_count": 48,
     "metadata": {},
     "output_type": "execute_result"
    }
   ],
   "source": [
    "documents = [finance_news_text,sports_news_text]\n",
    "df = pd.DataFrame(documents)\n",
    "df.columns = ['Title', 'Text']\n",
    "df"
   ]
  },
  {
   "cell_type": "code",
   "execution_count": 49,
   "id": "99831418-9c17-44c4-a0b8-f1c885861caf",
   "metadata": {},
   "outputs": [],
   "source": [
    "df['Embeddings'] = df['Text'].apply(embed_text)"
   ]
  },
  {
   "cell_type": "code",
   "execution_count": 50,
   "id": "6816689c-78eb-4553-8552-b708b1cd2a90",
   "metadata": {},
   "outputs": [
    {
     "data": {
      "text/html": [
       "<div>\n",
       "<style scoped>\n",
       "    .dataframe tbody tr th:only-of-type {\n",
       "        vertical-align: middle;\n",
       "    }\n",
       "\n",
       "    .dataframe tbody tr th {\n",
       "        vertical-align: top;\n",
       "    }\n",
       "\n",
       "    .dataframe thead th {\n",
       "        text-align: right;\n",
       "    }\n",
       "</style>\n",
       "<table border=\"1\" class=\"dataframe\">\n",
       "  <thead>\n",
       "    <tr style=\"text-align: right;\">\n",
       "      <th></th>\n",
       "      <th>Title</th>\n",
       "      <th>Text</th>\n",
       "      <th>Embeddings</th>\n",
       "    </tr>\n",
       "  </thead>\n",
       "  <tbody>\n",
       "    <tr>\n",
       "      <th>0</th>\n",
       "      <td>Finance Section</td>\n",
       "      <td>Meta stock has reached all time highs and has ...</td>\n",
       "      <td>[0.055816136, -0.0018495269, -0.024931083, 0.0...</td>\n",
       "    </tr>\n",
       "    <tr>\n",
       "      <th>1</th>\n",
       "      <td>Sports Section</td>\n",
       "      <td>The San Francisco 49ers are heading to the sup...</td>\n",
       "      <td>[0.013654178, -0.010523142, -0.053972486, -0.0...</td>\n",
       "    </tr>\n",
       "  </tbody>\n",
       "</table>\n",
       "</div>"
      ],
      "text/plain": [
       "             Title                                               Text  \\\n",
       "0  Finance Section  Meta stock has reached all time highs and has ...   \n",
       "1   Sports Section  The San Francisco 49ers are heading to the sup...   \n",
       "\n",
       "                                          Embeddings  \n",
       "0  [0.055816136, -0.0018495269, -0.024931083, 0.0...  \n",
       "1  [0.013654178, -0.010523142, -0.053972486, -0.0...  "
      ]
     },
     "execution_count": 50,
     "metadata": {},
     "output_type": "execute_result"
    }
   ],
   "source": [
    "df"
   ]
  },
  {
   "cell_type": "code",
   "execution_count": 51,
   "id": "686aeb42-292c-4173-b745-188337b0cd07",
   "metadata": {},
   "outputs": [
    {
     "name": "stdout",
     "output_type": "stream",
     "text": [
      "<class 'pandas.core.frame.DataFrame'>\n",
      "RangeIndex: 2 entries, 0 to 1\n",
      "Data columns (total 3 columns):\n",
      " #   Column      Non-Null Count  Dtype \n",
      "---  ------      --------------  ----- \n",
      " 0   Title       2 non-null      object\n",
      " 1   Text        2 non-null      object\n",
      " 2   Embeddings  2 non-null      object\n",
      "dtypes: object(3)\n",
      "memory usage: 176.0+ bytes\n"
     ]
    }
   ],
   "source": [
    "df.info()"
   ]
  },
  {
   "cell_type": "markdown",
   "id": "c4146a79-510f-43fb-9bb3-6fffe95524e3",
   "metadata": {},
   "source": [
    "## Step 5: Similarity Search\n",
    "\n",
    "Question and Answer (Q&A) system aimed at sifting through these documents. The process involves posing a query specifically about hyperparameter tuning. Subsequently, this query is transformed into an embedding, essentially a numerical vector composed of floating-point values. This vector representing the question is then methodically compared with the array of document embeddings stored within the dataframe.\n",
    "\n",
    "The comparison hinges on the mathematical operation known as the dot product. This operation quantitatively assesses the alignment or similarity in direction between two vectors. Notably, the vector we receive from the API is pre-normalized, ensuring its readiness for comparison.\n",
    "\n",
    "The outcome of the dot product, which measures the similarity, spans a range from -1 to 1. A dot product value of 1 signifies perfect alignment, indicating that the vectors share the same direction. Conversely, a value of -1 denotes complete opposition in direction, reflecting dissimilarity. A value of 0, falling in the middle, indicates orthogonality, meaning the vectors are perpendicular and bear no relation to each other in terms of direction. Understanding these values and their implications is crucial for interpreting the similarity between the query and document embeddings in our Q&A system."
   ]
  },
  {
   "cell_type": "code",
   "execution_count": 52,
   "id": "5cf913c4-db5b-41c3-a938-57f895ae5b14",
   "metadata": {},
   "outputs": [],
   "source": [
    "import numpy as np\n",
    "\n",
    "def query_similarity_score(query,vector):\n",
    "    '''\n",
    "    INPUTS:\n",
    "        query: str: The user prompt\n",
    "        vector: array: The existing vector embedding from a document\n",
    "    OUTPUT:\n",
    "        score: float - Cosine similarity score\n",
    "    '''\n",
    "    query_embedding = embed_text(query)\n",
    "    return np.dot(query_embedding,vector)"
   ]
  },
  {
   "cell_type": "code",
   "execution_count": 78,
   "id": "6baac361-e608-40dd-ae04-dbde13b12c60",
   "metadata": {},
   "outputs": [],
   "source": [
    "query = \"Any interesting news about the stock market today?\""
   ]
  },
  {
   "cell_type": "code",
   "execution_count": 71,
   "id": "19101cf6-f60a-47ec-964f-8eaf4f2ab82e",
   "metadata": {},
   "outputs": [],
   "source": [
    "df['Similarity'] = df['Embeddings'].apply(lambda vector: query_similarity_score(query,vector))"
   ]
  },
  {
   "cell_type": "code",
   "execution_count": 72,
   "id": "3fc866ee-a221-4d0d-9c1a-102a78a459d5",
   "metadata": {},
   "outputs": [
    {
     "data": {
      "text/html": [
       "<div>\n",
       "<style scoped>\n",
       "    .dataframe tbody tr th:only-of-type {\n",
       "        vertical-align: middle;\n",
       "    }\n",
       "\n",
       "    .dataframe tbody tr th {\n",
       "        vertical-align: top;\n",
       "    }\n",
       "\n",
       "    .dataframe thead th {\n",
       "        text-align: right;\n",
       "    }\n",
       "</style>\n",
       "<table border=\"1\" class=\"dataframe\">\n",
       "  <thead>\n",
       "    <tr style=\"text-align: right;\">\n",
       "      <th></th>\n",
       "      <th>Title</th>\n",
       "      <th>Text</th>\n",
       "      <th>Embeddings</th>\n",
       "      <th>Similarity</th>\n",
       "    </tr>\n",
       "  </thead>\n",
       "  <tbody>\n",
       "    <tr>\n",
       "      <th>0</th>\n",
       "      <td>Finance Section</td>\n",
       "      <td>Meta stock has reached all time highs and has ...</td>\n",
       "      <td>[0.055816136, -0.0018495269, -0.024931083, 0.0...</td>\n",
       "      <td>0.791951</td>\n",
       "    </tr>\n",
       "    <tr>\n",
       "      <th>1</th>\n",
       "      <td>Sports Section</td>\n",
       "      <td>The San Francisco 49ers are heading to the sup...</td>\n",
       "      <td>[0.013654178, -0.010523142, -0.053972486, -0.0...</td>\n",
       "      <td>0.710961</td>\n",
       "    </tr>\n",
       "  </tbody>\n",
       "</table>\n",
       "</div>"
      ],
      "text/plain": [
       "             Title                                               Text  \\\n",
       "0  Finance Section  Meta stock has reached all time highs and has ...   \n",
       "1   Sports Section  The San Francisco 49ers are heading to the sup...   \n",
       "\n",
       "                                          Embeddings  Similarity  \n",
       "0  [0.055816136, -0.0018495269, -0.024931083, 0.0...    0.791951  \n",
       "1  [0.013654178, -0.010523142, -0.053972486, -0.0...    0.710961  "
      ]
     },
     "execution_count": 72,
     "metadata": {},
     "output_type": "execute_result"
    }
   ],
   "source": [
    "df"
   ]
  },
  {
   "cell_type": "code",
   "execution_count": 73,
   "id": "b9ea06cf-062a-463f-b814-8583fd593244",
   "metadata": {},
   "outputs": [
    {
     "data": {
      "text/plain": [
       "Title                                      Finance Section\n",
       "Text     Meta stock has reached all time highs and has ...\n",
       "Name: 0, dtype: object"
      ]
     },
     "execution_count": 73,
     "metadata": {},
     "output_type": "execute_result"
    }
   ],
   "source": [
    "df.sort_values('Similarity',ascending=False)[['Title','Text']].iloc[0]"
   ]
  },
  {
   "cell_type": "code",
   "execution_count": 74,
   "id": "900d7c8a-b808-4dcb-86bd-2bae55f3b021",
   "metadata": {},
   "outputs": [],
   "source": [
    "def most_similar_document(query):\n",
    "    df['Similarity'] = df['Embeddings'].apply(lambda vector: query_similarity_score(query,vector))\n",
    "    title = df.sort_values('Similarity',ascending=False)[['Title','Text']].iloc[0]['Title']\n",
    "    text = df.sort_values('Similarity',ascending=False)[['Title','Text']].iloc[0]['Text']\n",
    "    return title,text"
   ]
  },
  {
   "cell_type": "markdown",
   "id": "9231ef39-10ce-40f8-978c-f626491d5396",
   "metadata": {},
   "source": [
    "## Step 6: Inject Text as Context using RAG\n",
    "\n",
    "We simply grab the most relevant text to help the Text Generation Model answer the query"
   ]
  },
  {
   "cell_type": "code",
   "execution_count": 82,
   "id": "7934a13c-d32e-45ca-8ce8-7262c0ca2e9b",
   "metadata": {},
   "outputs": [],
   "source": [
    "def RAG(query):\n",
    "    title,text = most_similar_document(query)\n",
    "    model = genai.GenerativeModel('gemini-pro')\n",
    "    prompt = f'Answer this query:\\n{query}.\\nOnly use this context to answer:\\n{text}'\n",
    "    response = model.generate_content(prompt)\n",
    "    return f'{response.text}\\n\\nSource Document:{title}'"
   ]
  },
  {
   "cell_type": "code",
   "execution_count": 83,
   "id": "65632abb-1627-4a18-93a5-ecaa6e320585",
   "metadata": {},
   "outputs": [
    {
     "name": "stdout",
     "output_type": "stream",
     "text": [
      "Yes, Meta stock has reached all-time highs, making it a major part of the S&P 500. This is significant because it reflects the company's strong financial performance and its growing influence in the technology sector.\n",
      "\n",
      "Source Document:Finance Section\n"
     ]
    }
   ],
   "source": [
    "# Careful, it can still add its own context, which could be out of date!\n",
    "print(RAG(\"Any interesting news about the stock market today?\"))"
   ]
  },
  {
   "cell_type": "code",
   "execution_count": 86,
   "id": "60050af3-fec9-4117-bdfe-c27a9f6c390c",
   "metadata": {},
   "outputs": [
    {
     "name": "stdout",
     "output_type": "stream",
     "text": [
      "The San Francisco 49ers are making their way to the Super Bowl in an exciting football showdown.\n",
      "\n",
      "Source Document:Sports Section\n"
     ]
    }
   ],
   "source": [
    "print(RAG(\"Anything interesting happening in the world of sports?\"))"
   ]
  },
  {
   "cell_type": "markdown",
   "id": "39693692-ccf1-46cf-8a60-18c6b78ab300",
   "metadata": {},
   "source": [
    "## OPTIONAL: Expand to more real world documents \n",
    "\n",
    "There are lots of libraries allowing you to extract text from real world documents, for example, PDFs! You could make a bot that helps answer questions about your company's own documents. Do a google search for relevant Python libraries to extract text from your documents."
   ]
  },
  {
   "cell_type": "code",
   "execution_count": 87,
   "id": "bd64fcff-0757-4d6a-961b-852a5390011a",
   "metadata": {},
   "outputs": [],
   "source": [
    "#!pip install PyPDF2"
   ]
  },
  {
   "cell_type": "code",
   "execution_count": 96,
   "id": "5eca2902-fc5d-4321-8803-49e66bc98874",
   "metadata": {},
   "outputs": [],
   "source": [
    "import os\n",
    "import pandas as pd\n",
    "from PyPDF2 import PdfReader\n",
    "\n",
    "# Initialize an empty DataFrame with columns 'Title' and 'Text'\n",
    "df = pd.DataFrame(columns=['Title', 'Text'])\n",
    "\n",
    "# Loop through each file in the current directory\n",
    "for file_name in os.listdir('.'):\n",
    "    if file_name.endswith('.pdf'):\n",
    "        try:\n",
    "            # Open the PDF file\n",
    "            with open(file_name, 'rb') as file:\n",
    "                # Initialize a PDF file reader\n",
    "                pdf_reader = PdfReader(file)\n",
    "                # Initialize text variable to store the content of the PDF\n",
    "                text = ''\n",
    "                # Iterate through each page in the PDF\n",
    "                for page_num in range(len(pdf_reader.pages)):\n",
    "                    # Extract text from the page\n",
    "                    text += pdf_reader.pages[page_num].extract_text()\n",
    "                    text = text.replace('\\n',' ')\n",
    "                # Create a new DataFrame with the file's title and text\n",
    "                new_row = pd.DataFrame({'Title': [file_name], 'Text': [text]})\n",
    "                # Concatenate the new DataFrame row to the existing DataFrame\n",
    "                df = pd.concat([df, new_row], ignore_index=True)\n",
    "        except Exception as e:\n",
    "            print(f\"Error processing file {file_name}: {e}\")"
   ]
  },
  {
   "cell_type": "code",
   "execution_count": 97,
   "id": "2358959f-1274-48bc-9ee0-712a9b27fa18",
   "metadata": {},
   "outputs": [
    {
     "data": {
      "text/html": [
       "<div>\n",
       "<style scoped>\n",
       "    .dataframe tbody tr th:only-of-type {\n",
       "        vertical-align: middle;\n",
       "    }\n",
       "\n",
       "    .dataframe tbody tr th {\n",
       "        vertical-align: top;\n",
       "    }\n",
       "\n",
       "    .dataframe thead th {\n",
       "        text-align: right;\n",
       "    }\n",
       "</style>\n",
       "<table border=\"1\" class=\"dataframe\">\n",
       "  <thead>\n",
       "    <tr style=\"text-align: right;\">\n",
       "      <th></th>\n",
       "      <th>Title</th>\n",
       "      <th>Text</th>\n",
       "    </tr>\n",
       "  </thead>\n",
       "  <tbody>\n",
       "    <tr>\n",
       "      <th>0</th>\n",
       "      <td>Wonka Chocolate Facility Rules.pdf</td>\n",
       "      <td>Wonka Milk Chocolate Factory: Facility Safety ...</td>\n",
       "    </tr>\n",
       "  </tbody>\n",
       "</table>\n",
       "</div>"
      ],
      "text/plain": [
       "                                Title  \\\n",
       "0  Wonka Chocolate Facility Rules.pdf   \n",
       "\n",
       "                                                Text  \n",
       "0  Wonka Milk Chocolate Factory: Facility Safety ...  "
      ]
     },
     "execution_count": 97,
     "metadata": {},
     "output_type": "execute_result"
    }
   ],
   "source": [
    "df"
   ]
  },
  {
   "cell_type": "code",
   "execution_count": null,
   "id": "cc982010-0558-4ec8-8a9a-a91b894aec9f",
   "metadata": {},
   "outputs": [],
   "source": []
  }
 ],
 "metadata": {
  "kernelspec": {
   "display_name": "Python 3 (ipykernel)",
   "language": "python",
   "name": "python3"
  },
  "language_info": {
   "codemirror_mode": {
    "name": "ipython",
    "version": 3
   },
   "file_extension": ".py",
   "mimetype": "text/x-python",
   "name": "python",
   "nbconvert_exporter": "python",
   "pygments_lexer": "ipython3",
   "version": "3.9.12"
  }
 },
 "nbformat": 4,
 "nbformat_minor": 5
}
